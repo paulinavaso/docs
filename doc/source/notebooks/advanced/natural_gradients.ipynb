{
 "cells": [
  {
   "cell_type": "markdown",
   "id": "04a5709c",
   "metadata": {},
   "source": [
    "# Natural gradients\n",
    "\n",
    "This notebook shows some basic usage of the natural gradient optimizer, both on its own and in combination with Adam optimizer."
   ]
  },
  {
   "cell_type": "code",
   "execution_count": 1,
   "id": "4e33c8a1",
   "metadata": {
    "execution": {
     "iopub.execute_input": "2021-04-29T11:45:38.898748Z",
     "iopub.status.busy": "2021-04-29T11:45:38.897083Z",
     "iopub.status.idle": "2021-04-29T11:45:41.444773Z",
     "shell.execute_reply": "2021-04-29T11:45:41.444341Z"
    }
   },
   "outputs": [],
   "source": [
    "import warnings\n",
    "import numpy as np\n",
    "import gpflow\n",
    "import tensorflow as tf\n",
    "\n",
    "from gpflow.ci_utils import ci_niter, ci_range\n",
    "from gpflow.models import VGP, GPR, SGPR, SVGP\n",
    "from gpflow.optimizers import NaturalGradient\n",
    "from gpflow.optimizers.natgrad import XiSqrtMeanVar\n",
    "from gpflow import set_trainable\n",
    "\n",
    "%matplotlib inline\n",
    "%precision 4\n",
    "\n",
    "np.random.seed(0)\n",
    "tf.random.set_seed(0)\n",
    "\n",
    "N, D = 100, 2\n",
    "batch_size = 50\n",
    "\n",
    "# inducing points\n",
    "M = 10\n",
    "\n",
    "x = np.random.uniform(size=(N, D))\n",
    "y = np.sin(10 * x[:, :1]) + 5 * x[:, 1:] ** 2\n",
    "\n",
    "data = (x, y)\n",
    "inducing_variable = tf.random.uniform((M, D))\n",
    "adam_learning_rate = 0.01\n",
    "iterations = ci_niter(5)\n",
    "autotune = tf.data.experimental.AUTOTUNE"
   ]
  },
  {
   "cell_type": "markdown",
   "id": "c3d214dc",
   "metadata": {},
   "source": [
    "### VGP is a GPR"
   ]
  },
  {
   "cell_type": "markdown",
   "id": "ff4093e8",
   "metadata": {},
   "source": [
    "The following section demonstrates how natural gradients can turn VGP into GPR *in a single step, if the likelihood is Gaussian*."
   ]
  },
  {
   "cell_type": "markdown",
   "id": "144bdb2a",
   "metadata": {},
   "source": [
    "Let's start by first creating a standard GPR model with Gaussian likelihood:"
   ]
  },
  {
   "cell_type": "code",
   "execution_count": 2,
   "id": "577dff46",
   "metadata": {
    "execution": {
     "iopub.execute_input": "2021-04-29T11:45:41.455483Z",
     "iopub.status.busy": "2021-04-29T11:45:41.454893Z",
     "iopub.status.idle": "2021-04-29T11:45:41.477636Z",
     "shell.execute_reply": "2021-04-29T11:45:41.477159Z"
    }
   },
   "outputs": [],
   "source": [
    "gpr = GPR(data, kernel=gpflow.kernels.Matern52())"
   ]
  },
  {
   "cell_type": "markdown",
   "id": "24f329a1",
   "metadata": {},
   "source": [
    "The log marginal likelihood of the exact GP model is:"
   ]
  },
  {
   "cell_type": "code",
   "execution_count": 3,
   "id": "4994ee93",
   "metadata": {
    "execution": {
     "iopub.execute_input": "2021-04-29T11:45:41.481735Z",
     "iopub.status.busy": "2021-04-29T11:45:41.481313Z",
     "iopub.status.idle": "2021-04-29T11:45:41.493910Z",
     "shell.execute_reply": "2021-04-29T11:45:41.494261Z"
    }
   },
   "outputs": [
    {
     "data": {
      "text/plain": [
       "-139.56404314546032"
      ]
     },
     "execution_count": 1,
     "metadata": {},
     "output_type": "execute_result"
    }
   ],
   "source": [
    "gpr.log_marginal_likelihood().numpy()"
   ]
  },
  {
   "cell_type": "markdown",
   "id": "9205d4b4",
   "metadata": {},
   "source": [
    "Now we will create an approximate model which approximates the true posterior via a variational Gaussian distribution.<br>We initialize the distribution to be zero mean and unit variance."
   ]
  },
  {
   "cell_type": "code",
   "execution_count": 4,
   "id": "6178433d",
   "metadata": {
    "execution": {
     "iopub.execute_input": "2021-04-29T11:45:41.498366Z",
     "iopub.status.busy": "2021-04-29T11:45:41.497901Z",
     "iopub.status.idle": "2021-04-29T11:45:41.521638Z",
     "shell.execute_reply": "2021-04-29T11:45:41.521209Z"
    }
   },
   "outputs": [],
   "source": [
    "vgp = VGP(data, kernel=gpflow.kernels.Matern52(), likelihood=gpflow.likelihoods.Gaussian())\n",
    "# (Note that GPflow's NaturalGradient optimizer does not implement diagonal covariance parametrization, i.e., it does not work for `q_diag=True`.)"
   ]
  },
  {
   "cell_type": "markdown",
   "id": "9f84b762",
   "metadata": {},
   "source": [
    "The log marginal likelihood lower bound (evidence lower bound or ELBO) of the approximate GP model is:"
   ]
  },
  {
   "cell_type": "code",
   "execution_count": 5,
   "id": "dbad8933",
   "metadata": {
    "execution": {
     "iopub.execute_input": "2021-04-29T11:45:41.525841Z",
     "iopub.status.busy": "2021-04-29T11:45:41.525373Z",
     "iopub.status.idle": "2021-04-29T11:45:41.543957Z",
     "shell.execute_reply": "2021-04-29T11:45:41.543511Z"
    }
   },
   "outputs": [
    {
     "data": {
      "text/plain": [
       "-426.9017357334335"
      ]
     },
     "execution_count": 1,
     "metadata": {},
     "output_type": "execute_result"
    }
   ],
   "source": [
    "vgp.elbo().numpy()"
   ]
  },
  {
   "cell_type": "markdown",
   "id": "d4b27514",
   "metadata": {},
   "source": [
    "Obviously, our initial guess for the variational distribution is not correct, which results in a lower bound to the likelihood of the exact GPR model. We can optimize the variational parameters in order to get a tighter bound."
   ]
  },
  {
   "cell_type": "markdown",
   "id": "7d6a4279",
   "metadata": {},
   "source": [
    "In fact, we only need to take **one step** in the natural gradient direction to recover the exact posterior:"
   ]
  },
  {
   "cell_type": "code",
   "execution_count": 6,
   "id": "4deb2627",
   "metadata": {
    "execution": {
     "iopub.execute_input": "2021-04-29T11:45:41.551057Z",
     "iopub.status.busy": "2021-04-29T11:45:41.550632Z",
     "iopub.status.idle": "2021-04-29T11:45:41.603016Z",
     "shell.execute_reply": "2021-04-29T11:45:41.603402Z"
    }
   },
   "outputs": [],
   "source": [
    "natgrad_opt = NaturalGradient(gamma=1.0)\n",
    "variational_params = [(vgp.q_mu, vgp.q_sqrt)]\n",
    "natgrad_opt.minimize(vgp.training_loss, var_list=variational_params)"
   ]
  },
  {
   "cell_type": "markdown",
   "id": "b05e1748",
   "metadata": {},
   "source": [
    "The ELBO of the approximate GP model after a single NatGrad step:"
   ]
  },
  {
   "cell_type": "code",
   "execution_count": 7,
   "id": "97063e4b",
   "metadata": {
    "execution": {
     "iopub.execute_input": "2021-04-29T11:45:41.607717Z",
     "iopub.status.busy": "2021-04-29T11:45:41.607286Z",
     "iopub.status.idle": "2021-04-29T11:45:41.625086Z",
     "shell.execute_reply": "2021-04-29T11:45:41.624527Z"
    }
   },
   "outputs": [
    {
     "data": {
      "text/plain": [
       "-139.56406476221198"
      ]
     },
     "execution_count": 1,
     "metadata": {},
     "output_type": "execute_result"
    }
   ],
   "source": [
    "vgp.elbo().numpy()"
   ]
  },
  {
   "cell_type": "markdown",
   "id": "c680de2b",
   "metadata": {},
   "source": [
    "### Optimize both variational parameters and kernel hyperparameters together\n",
    "\n",
    "In the Gaussian likelihood case we can iterate between an Adam update for the hyperparameters and a NatGrad update for the variational parameters. That way, we achieve optimization of hyperparameters as if the model were a GPR."
   ]
  },
  {
   "cell_type": "markdown",
   "id": "f588e558",
   "metadata": {},
   "source": [
    "The trick is to forbid Adam from updating the variational parameters by setting them to not trainable."
   ]
  },
  {
   "cell_type": "code",
   "execution_count": 8,
   "id": "4c58c546",
   "metadata": {
    "execution": {
     "iopub.execute_input": "2021-04-29T11:45:41.640041Z",
     "iopub.status.busy": "2021-04-29T11:45:41.639586Z",
     "iopub.status.idle": "2021-04-29T11:45:41.641308Z",
     "shell.execute_reply": "2021-04-29T11:45:41.641671Z"
    }
   },
   "outputs": [],
   "source": [
    "# Stop Adam from optimizing the variational parameters\n",
    "set_trainable(vgp.q_mu, False)\n",
    "set_trainable(vgp.q_sqrt, False)\n",
    "\n",
    "adam_opt_for_vgp = tf.optimizers.Adam(adam_learning_rate)\n",
    "adam_opt_for_gpr = tf.optimizers.Adam(adam_learning_rate)"
   ]
  },
  {
   "cell_type": "code",
   "execution_count": 9,
   "id": "d4573464",
   "metadata": {
    "execution": {
     "iopub.execute_input": "2021-04-29T11:45:41.654165Z",
     "iopub.status.busy": "2021-04-29T11:45:41.653701Z",
     "iopub.status.idle": "2021-04-29T11:45:41.771103Z",
     "shell.execute_reply": "2021-04-29T11:45:41.771452Z"
    }
   },
   "outputs": [
    {
     "name": "stdout",
     "output_type": "stream",
     "text": [
      "GPR with Adam: iteration 1 likelihood -139.2548\n"
     ]
    },
    {
     "name": "stdout",
     "output_type": "stream",
     "text": [
      "GPR with Adam: iteration 2 likelihood -138.9456\n"
     ]
    },
    {
     "name": "stdout",
     "output_type": "stream",
     "text": [
      "GPR with Adam: iteration 3 likelihood -138.6363\n"
     ]
    },
    {
     "name": "stdout",
     "output_type": "stream",
     "text": [
      "GPR with Adam: iteration 4 likelihood -138.3270\n"
     ]
    },
    {
     "name": "stdout",
     "output_type": "stream",
     "text": [
      "GPR with Adam: iteration 5 likelihood -138.0177\n"
     ]
    }
   ],
   "source": [
    "for i in range(iterations):\n",
    "    adam_opt_for_gpr.minimize(gpr.training_loss, var_list=gpr.trainable_variables)\n",
    "    likelihood = gpr.log_marginal_likelihood()\n",
    "    tf.print(f\"GPR with Adam: iteration {i + 1} likelihood {likelihood:.04f}\")"
   ]
  },
  {
   "cell_type": "code",
   "execution_count": 10,
   "id": "8decc1c4",
   "metadata": {
    "execution": {
     "iopub.execute_input": "2021-04-29T11:45:41.776314Z",
     "iopub.status.busy": "2021-04-29T11:45:41.775865Z",
     "iopub.status.idle": "2021-04-29T11:45:42.222569Z",
     "shell.execute_reply": "2021-04-29T11:45:42.222922Z"
    }
   },
   "outputs": [
    {
     "name": "stdout",
     "output_type": "stream",
     "text": [
      "VGP with NaturalGradient and Adam: iteration 1 likelihood -139.2581\n"
     ]
    },
    {
     "name": "stdout",
     "output_type": "stream",
     "text": [
      "VGP with NaturalGradient and Adam: iteration 2 likelihood -138.9489\n"
     ]
    },
    {
     "name": "stdout",
     "output_type": "stream",
     "text": [
      "VGP with NaturalGradient and Adam: iteration 3 likelihood -138.6397\n"
     ]
    },
    {
     "name": "stdout",
     "output_type": "stream",
     "text": [
      "VGP with NaturalGradient and Adam: iteration 4 likelihood -138.3305\n"
     ]
    },
    {
     "name": "stdout",
     "output_type": "stream",
     "text": [
      "VGP with NaturalGradient and Adam: iteration 5 likelihood -138.0213\n"
     ]
    }
   ],
   "source": [
    "for i in range(iterations):\n",
    "    natgrad_opt.minimize(vgp.training_loss, var_list=variational_params)\n",
    "    adam_opt_for_vgp.minimize(vgp.training_loss, var_list=vgp.trainable_variables)\n",
    "    likelihood = vgp.elbo()\n",
    "    tf.print(f\"VGP with NaturalGradient and Adam: iteration {i + 1} likelihood {likelihood:.04f}\")"
   ]
  },
  {
   "cell_type": "markdown",
   "id": "3e93d780",
   "metadata": {},
   "source": [
    "Compare GPR and VGP lengthscales after optimization:"
   ]
  },
  {
   "cell_type": "code",
   "execution_count": 11,
   "id": "6881efd7",
   "metadata": {
    "execution": {
     "iopub.execute_input": "2021-04-29T11:45:42.227461Z",
     "iopub.status.busy": "2021-04-29T11:45:42.227025Z",
     "iopub.status.idle": "2021-04-29T11:45:42.231715Z",
     "shell.execute_reply": "2021-04-29T11:45:42.232089Z"
    }
   },
   "outputs": [
    {
     "name": "stdout",
     "output_type": "stream",
     "text": [
      "GPR lengthscales = 0.9687\n",
      "VGP lengthscales = 0.9687\n"
     ]
    }
   ],
   "source": [
    "print(f\"GPR lengthscales = {gpr.kernel.lengthscales.numpy():.04f}\")\n",
    "print(f\"VGP lengthscales = {vgp.kernel.lengthscales.numpy():.04f}\")"
   ]
  },
  {
   "cell_type": "markdown",
   "id": "34f8d966",
   "metadata": {},
   "source": [
    "### Natural gradients also work for the sparse model\n",
    "Similarly, natural gradients turn SVGP into SGPR in the Gaussian likelihood case. <br>\n",
    "We can again combine natural gradients with Adam to update both variational parameters and hyperparameters too.<br>\n",
    "Here we'll just do a single natural step demonstration."
   ]
  },
  {
   "cell_type": "code",
   "execution_count": 12,
   "id": "b98373ea",
   "metadata": {
    "execution": {
     "iopub.execute_input": "2021-04-29T11:45:42.238281Z",
     "iopub.status.busy": "2021-04-29T11:45:42.237814Z",
     "iopub.status.idle": "2021-04-29T11:45:42.299188Z",
     "shell.execute_reply": "2021-04-29T11:45:42.298755Z"
    }
   },
   "outputs": [],
   "source": [
    "svgp = SVGP(\n",
    "    kernel=gpflow.kernels.Matern52(),\n",
    "    likelihood=gpflow.likelihoods.Gaussian(),\n",
    "    inducing_variable=inducing_variable,\n",
    ")\n",
    "sgpr = SGPR(data, kernel=gpflow.kernels.Matern52(), inducing_variable=inducing_variable)\n",
    "\n",
    "for model in svgp, sgpr:\n",
    "    model.likelihood.variance.assign(0.1)"
   ]
  },
  {
   "cell_type": "markdown",
   "id": "6eccf87c",
   "metadata": {},
   "source": [
    "Analytically optimal sparse model ELBO:"
   ]
  },
  {
   "cell_type": "code",
   "execution_count": 13,
   "id": "78be084b",
   "metadata": {
    "execution": {
     "iopub.execute_input": "2021-04-29T11:45:42.303860Z",
     "iopub.status.busy": "2021-04-29T11:45:42.303379Z",
     "iopub.status.idle": "2021-04-29T11:45:42.338046Z",
     "shell.execute_reply": "2021-04-29T11:45:42.338418Z"
    }
   },
   "outputs": [
    {
     "data": {
      "text/plain": [
       "-227.98398729188375"
      ]
     },
     "execution_count": 1,
     "metadata": {},
     "output_type": "execute_result"
    }
   ],
   "source": [
    "sgpr.elbo().numpy()"
   ]
  },
  {
   "cell_type": "markdown",
   "id": "c6b3c29d",
   "metadata": {},
   "source": [
    "SVGP ELBO before natural gradient step:"
   ]
  },
  {
   "cell_type": "code",
   "execution_count": 14,
   "id": "ad71c089",
   "metadata": {
    "execution": {
     "iopub.execute_input": "2021-04-29T11:45:42.344358Z",
     "iopub.status.busy": "2021-04-29T11:45:42.343908Z",
     "iopub.status.idle": "2021-04-29T11:45:42.388936Z",
     "shell.execute_reply": "2021-04-29T11:45:42.389328Z"
    }
   },
   "outputs": [
    {
     "data": {
      "text/plain": [
       "-3326.8429228004275"
      ]
     },
     "execution_count": 1,
     "metadata": {},
     "output_type": "execute_result"
    }
   ],
   "source": [
    "svgp.elbo(data).numpy()"
   ]
  },
  {
   "cell_type": "code",
   "execution_count": 15,
   "id": "2dcac493",
   "metadata": {
    "execution": {
     "iopub.execute_input": "2021-04-29T11:45:42.398106Z",
     "iopub.status.busy": "2021-04-29T11:45:42.393839Z",
     "iopub.status.idle": "2021-04-29T11:45:46.909556Z",
     "shell.execute_reply": "2021-04-29T11:45:46.910050Z"
    }
   },
   "outputs": [],
   "source": [
    "variational_params = [(svgp.q_mu, svgp.q_sqrt)]\n",
    "\n",
    "natgrad_opt = NaturalGradient(gamma=1.0)\n",
    "natgrad_opt.minimize(svgp.training_loss_closure(data), var_list=variational_params)"
   ]
  },
  {
   "cell_type": "markdown",
   "id": "d5c2e62c",
   "metadata": {},
   "source": [
    "SVGP ELBO after a single natural gradient step:"
   ]
  },
  {
   "cell_type": "code",
   "execution_count": 16,
   "id": "a1840e49",
   "metadata": {
    "execution": {
     "iopub.execute_input": "2021-04-29T11:45:46.914973Z",
     "iopub.status.busy": "2021-04-29T11:45:46.914462Z",
     "iopub.status.idle": "2021-04-29T11:45:46.942295Z",
     "shell.execute_reply": "2021-04-29T11:45:46.942761Z"
    }
   },
   "outputs": [
    {
     "data": {
      "text/plain": [
       "-227.98398729188335"
      ]
     },
     "execution_count": 1,
     "metadata": {},
     "output_type": "execute_result"
    }
   ],
   "source": [
    "svgp.elbo(data).numpy()"
   ]
  },
  {
   "cell_type": "markdown",
   "id": "9ba04f6a",
   "metadata": {},
   "source": [
    "### Minibatches\n",
    "A crucial property of the natural gradient method is that it still works with minibatches.\n",
    "In practice though, we need to use a smaller gamma."
   ]
  },
  {
   "cell_type": "code",
   "execution_count": 17,
   "id": "d6a1de61",
   "metadata": {
    "execution": {
     "iopub.execute_input": "2021-04-29T11:45:46.950604Z",
     "iopub.status.busy": "2021-04-29T11:45:46.949926Z",
     "iopub.status.idle": "2021-04-29T11:45:50.287001Z",
     "shell.execute_reply": "2021-04-29T11:45:50.287582Z"
    }
   },
   "outputs": [],
   "source": [
    "natgrad_opt = NaturalGradient(gamma=0.1)\n",
    "\n",
    "data_minibatch = (\n",
    "    tf.data.Dataset.from_tensor_slices(data)\n",
    "    .prefetch(autotune)\n",
    "    .repeat()\n",
    "    .shuffle(N)\n",
    "    .batch(batch_size)\n",
    ")\n",
    "data_minibatch_it = iter(data_minibatch)\n",
    "\n",
    "\n",
    "svgp_objective = svgp.training_loss_closure(data_minibatch_it)\n",
    "for _ in range(ci_niter(100)):\n",
    "    natgrad_opt.minimize(svgp_objective, var_list=variational_params)"
   ]
  },
  {
   "cell_type": "markdown",
   "id": "24d84aa1",
   "metadata": {},
   "source": [
    "Minibatch SVGP ELBO after NatGrad optimization:"
   ]
  },
  {
   "cell_type": "code",
   "execution_count": 18,
   "id": "ef504833",
   "metadata": {
    "execution": {
     "iopub.execute_input": "2021-04-29T11:45:50.292441Z",
     "iopub.status.busy": "2021-04-29T11:45:50.291900Z",
     "iopub.status.idle": "2021-04-29T11:45:53.534535Z",
     "shell.execute_reply": "2021-04-29T11:45:53.534109Z"
    }
   },
   "outputs": [
    {
     "data": {
      "text/plain": [
       "-136.16498257017187"
      ]
     },
     "execution_count": 1,
     "metadata": {},
     "output_type": "execute_result"
    }
   ],
   "source": [
    "np.average([svgp.elbo(next(data_minibatch_it)) for _ in ci_range(100)])"
   ]
  },
  {
   "cell_type": "markdown",
   "id": "49cac305",
   "metadata": {},
   "source": [
    "### Comparison with ordinary gradients in the conjugate case\n",
    "\n",
    "##### (Take home message: natural gradients are always better)\n",
    "\n",
    "Compared to SVGP with ordinary gradients with minibatches, the natural gradient optimizer is much faster in the Gaussian case.\n",
    "\n",
    "Here we'll do hyperparameter learning together with optimization of the variational parameters, comparing the interleaved natural gradient approach and the one using ordinary gradients for the hyperparameters and variational parameters jointly.\n",
    "\n",
    "**NOTE:** Again we need to compromise for smaller gamma value, which we'll keep *fixed* during the optimization."
   ]
  },
  {
   "cell_type": "code",
   "execution_count": 19,
   "id": "ac11cfec",
   "metadata": {
    "execution": {
     "iopub.execute_input": "2021-04-29T11:45:53.540264Z",
     "iopub.status.busy": "2021-04-29T11:45:53.539729Z",
     "iopub.status.idle": "2021-04-29T11:45:53.585267Z",
     "shell.execute_reply": "2021-04-29T11:45:53.585828Z"
    }
   },
   "outputs": [],
   "source": [
    "svgp_ordinary = SVGP(\n",
    "    kernel=gpflow.kernels.Matern52(),\n",
    "    likelihood=gpflow.likelihoods.Gaussian(),\n",
    "    inducing_variable=inducing_variable,\n",
    ")\n",
    "svgp_natgrad = SVGP(\n",
    "    kernel=gpflow.kernels.Matern52(),\n",
    "    likelihood=gpflow.likelihoods.Gaussian(),\n",
    "    inducing_variable=inducing_variable,\n",
    ")\n",
    "\n",
    "# ordinary gradients with Adam for SVGP\n",
    "ordinary_adam_opt = tf.optimizers.Adam(adam_learning_rate)\n",
    "\n",
    "# NatGrads and Adam for SVGP\n",
    "# Stop Adam from optimizing the variational parameters\n",
    "set_trainable(svgp_natgrad.q_mu, False)\n",
    "set_trainable(svgp_natgrad.q_sqrt, False)\n",
    "\n",
    "# Create the optimize_tensors for SVGP\n",
    "natgrad_adam_opt = tf.optimizers.Adam(adam_learning_rate)\n",
    "\n",
    "natgrad_opt = NaturalGradient(gamma=0.1)\n",
    "variational_params = [(svgp_natgrad.q_mu, svgp_natgrad.q_sqrt)]"
   ]
  },
  {
   "cell_type": "markdown",
   "id": "b3d926e4",
   "metadata": {},
   "source": [
    "Let's optimize the models:"
   ]
  },
  {
   "cell_type": "code",
   "execution_count": 20,
   "id": "3a17d982",
   "metadata": {
    "execution": {
     "iopub.execute_input": "2021-04-29T11:45:53.591624Z",
     "iopub.status.busy": "2021-04-29T11:45:53.591085Z",
     "iopub.status.idle": "2021-04-29T11:45:59.291583Z",
     "shell.execute_reply": "2021-04-29T11:45:59.292025Z"
    }
   },
   "outputs": [],
   "source": [
    "data_minibatch = (\n",
    "    tf.data.Dataset.from_tensor_slices(data)\n",
    "    .prefetch(autotune)\n",
    "    .repeat()\n",
    "    .shuffle(N)\n",
    "    .batch(batch_size)\n",
    ")\n",
    "data_minibatch_it = iter(data_minibatch)\n",
    "\n",
    "\n",
    "svgp_ordinary_loss = svgp_ordinary.training_loss_closure(data_minibatch_it)\n",
    "svgp_natgrad_loss = svgp_natgrad.training_loss_closure(data_minibatch_it)\n",
    "\n",
    "\n",
    "for _ in range(ci_niter(100)):\n",
    "    ordinary_adam_opt.minimize(svgp_ordinary_loss, var_list=svgp_ordinary.trainable_variables)\n",
    "\n",
    "\n",
    "for _ in range(ci_niter(100)):\n",
    "    natgrad_adam_opt.minimize(svgp_natgrad_loss, var_list=svgp_natgrad.trainable_variables)\n",
    "    natgrad_opt.minimize(svgp_natgrad_loss, var_list=variational_params)"
   ]
  },
  {
   "cell_type": "markdown",
   "id": "8ae072bc",
   "metadata": {},
   "source": [
    "SVGP ELBO after ordinary `Adam` optimization:"
   ]
  },
  {
   "cell_type": "code",
   "execution_count": 21,
   "id": "2287c348",
   "metadata": {
    "execution": {
     "iopub.execute_input": "2021-04-29T11:45:59.296322Z",
     "iopub.status.busy": "2021-04-29T11:45:59.295669Z",
     "iopub.status.idle": "2021-04-29T11:46:01.956390Z",
     "shell.execute_reply": "2021-04-29T11:46:01.956755Z"
    }
   },
   "outputs": [
    {
     "data": {
      "text/plain": [
       "-82.77116468128965"
      ]
     },
     "execution_count": 1,
     "metadata": {},
     "output_type": "execute_result"
    }
   ],
   "source": [
    "np.average([svgp_ordinary.elbo(next(data_minibatch_it)) for _ in ci_range(100)])"
   ]
  },
  {
   "cell_type": "markdown",
   "id": "da96ecc0",
   "metadata": {},
   "source": [
    "SVGP ELBO after `NaturalGradient` and `Adam` optimization:"
   ]
  },
  {
   "cell_type": "code",
   "execution_count": 22,
   "id": "a3ded17c",
   "metadata": {
    "execution": {
     "iopub.execute_input": "2021-04-29T11:46:01.960195Z",
     "iopub.status.busy": "2021-04-29T11:46:01.959773Z",
     "iopub.status.idle": "2021-04-29T11:46:04.589737Z",
     "shell.execute_reply": "2021-04-29T11:46:04.589052Z"
    }
   },
   "outputs": [
    {
     "data": {
      "text/plain": [
       "-73.08621692763717"
      ]
     },
     "execution_count": 1,
     "metadata": {},
     "output_type": "execute_result"
    }
   ],
   "source": [
    "np.average([svgp_natgrad.elbo(next(data_minibatch_it)) for _ in ci_range(100)])"
   ]
  },
  {
   "cell_type": "markdown",
   "id": "1c0004e2",
   "metadata": {},
   "source": [
    "### Comparison with ordinary gradients in the non-conjugate case\n",
    "#### Binary classification\n",
    "\n",
    "##### (Take home message: natural gradients are usually better)\n",
    "\n",
    "We can use natural gradients even when the likelihood isn't Gaussian. It isn't guaranteed to be better, but it usually is better in practical situations."
   ]
  },
  {
   "cell_type": "code",
   "execution_count": 23,
   "id": "7d6e3663",
   "metadata": {
    "execution": {
     "iopub.execute_input": "2021-04-29T11:46:04.595645Z",
     "iopub.status.busy": "2021-04-29T11:46:04.595222Z",
     "iopub.status.idle": "2021-04-29T11:46:04.621997Z",
     "shell.execute_reply": "2021-04-29T11:46:04.622379Z"
    }
   },
   "outputs": [],
   "source": [
    "y_binary = np.random.choice([1.0, -1], size=x.shape)\n",
    "vgp_data = (x, y_binary)\n",
    "\n",
    "vgp_bernoulli = VGP(\n",
    "    vgp_data, kernel=gpflow.kernels.Matern52(), likelihood=gpflow.likelihoods.Bernoulli()\n",
    ")\n",
    "vgp_bernoulli_natgrad = VGP(\n",
    "    vgp_data, kernel=gpflow.kernels.Matern52(), likelihood=gpflow.likelihoods.Bernoulli()\n",
    ")\n",
    "\n",
    "# ordinary gradients with Adam for VGP with Bernoulli likelihood\n",
    "adam_opt = tf.optimizers.Adam(adam_learning_rate)\n",
    "\n",
    "# NatGrads and Adam for VGP with Bernoulli likelihood\n",
    "# Stop Adam from optimizing the variational parameters\n",
    "set_trainable(vgp_bernoulli_natgrad.q_mu, False)\n",
    "set_trainable(vgp_bernoulli_natgrad.q_sqrt, False)\n",
    "\n",
    "# Create the optimize_tensors for VGP with natural gradients\n",
    "natgrad_adam_opt = tf.optimizers.Adam(adam_learning_rate)\n",
    "natgrad_opt = NaturalGradient(gamma=0.1)\n",
    "variational_params = [(vgp_bernoulli_natgrad.q_mu, vgp_bernoulli_natgrad.q_sqrt)]"
   ]
  },
  {
   "cell_type": "code",
   "execution_count": 24,
   "id": "11ba400a",
   "metadata": {
    "execution": {
     "iopub.execute_input": "2021-04-29T11:46:04.631278Z",
     "iopub.status.busy": "2021-04-29T11:46:04.630572Z",
     "iopub.status.idle": "2021-04-29T11:46:14.683714Z",
     "shell.execute_reply": "2021-04-29T11:46:14.684096Z"
    }
   },
   "outputs": [],
   "source": [
    "# Optimize vgp_bernoulli\n",
    "for _ in range(ci_niter(100)):\n",
    "    adam_opt.minimize(vgp_bernoulli.training_loss, var_list=vgp_bernoulli.trainable_variables)\n",
    "\n",
    "# Optimize vgp_bernoulli_natgrad\n",
    "for _ in range(ci_niter(100)):\n",
    "    adam_opt.minimize(\n",
    "        vgp_bernoulli_natgrad.training_loss, var_list=vgp_bernoulli_natgrad.trainable_variables\n",
    "    )\n",
    "    natgrad_opt.minimize(vgp_bernoulli_natgrad.training_loss, var_list=variational_params)"
   ]
  },
  {
   "cell_type": "markdown",
   "id": "e2a8ce12",
   "metadata": {},
   "source": [
    "VGP ELBO after ordinary `Adam` optimization:"
   ]
  },
  {
   "cell_type": "code",
   "execution_count": 25,
   "id": "421edd57",
   "metadata": {
    "execution": {
     "iopub.execute_input": "2021-04-29T11:46:14.687846Z",
     "iopub.status.busy": "2021-04-29T11:46:14.687397Z",
     "iopub.status.idle": "2021-04-29T11:46:14.702870Z",
     "shell.execute_reply": "2021-04-29T11:46:14.703217Z"
    }
   },
   "outputs": [
    {
     "data": {
      "text/plain": [
       "-144.21400720445715"
      ]
     },
     "execution_count": 1,
     "metadata": {},
     "output_type": "execute_result"
    }
   ],
   "source": [
    "vgp_bernoulli.elbo().numpy()"
   ]
  },
  {
   "cell_type": "markdown",
   "id": "742590c7",
   "metadata": {},
   "source": [
    "VGP ELBO after `NaturalGradient` + `Adam` optimization:"
   ]
  },
  {
   "cell_type": "code",
   "execution_count": 26,
   "id": "89a06684",
   "metadata": {
    "execution": {
     "iopub.execute_input": "2021-04-29T11:46:14.707323Z",
     "iopub.status.busy": "2021-04-29T11:46:14.706874Z",
     "iopub.status.idle": "2021-04-29T11:46:14.723452Z",
     "shell.execute_reply": "2021-04-29T11:46:14.723989Z"
    }
   },
   "outputs": [
    {
     "data": {
      "text/plain": [
       "-142.83799599075957"
      ]
     },
     "execution_count": 1,
     "metadata": {},
     "output_type": "execute_result"
    }
   ],
   "source": [
    "vgp_bernoulli_natgrad.elbo().numpy()"
   ]
  },
  {
   "cell_type": "markdown",
   "id": "edc2be70",
   "metadata": {},
   "source": [
    "We can also choose to run natural gradients in another parameterization.<br>\n",
    "The sensible choice is the model parameters (q_mu, q_sqrt), which is already in GPflow."
   ]
  },
  {
   "cell_type": "code",
   "execution_count": 27,
   "id": "c4ac9008",
   "metadata": {
    "execution": {
     "iopub.execute_input": "2021-04-29T11:46:14.730143Z",
     "iopub.status.busy": "2021-04-29T11:46:14.729703Z",
     "iopub.status.idle": "2021-04-29T11:46:14.747571Z",
     "shell.execute_reply": "2021-04-29T11:46:14.747007Z"
    }
   },
   "outputs": [],
   "source": [
    "vgp_bernoulli_natgrads_xi = VGP(\n",
    "    vgp_data, kernel=gpflow.kernels.Matern52(), likelihood=gpflow.likelihoods.Bernoulli()\n",
    ")\n",
    "\n",
    "# Stop Adam from optimizing the variational parameters\n",
    "set_trainable(vgp_bernoulli_natgrads_xi.q_mu, False)\n",
    "set_trainable(vgp_bernoulli_natgrads_xi.q_sqrt, False)\n",
    "\n",
    "# Create the optimize_tensors for VGP with Bernoulli likelihood\n",
    "adam_opt = tf.optimizers.Adam(adam_learning_rate)\n",
    "natgrad_opt = NaturalGradient(gamma=0.01)\n",
    "\n",
    "variational_params = [\n",
    "    (vgp_bernoulli_natgrads_xi.q_mu, vgp_bernoulli_natgrads_xi.q_sqrt, XiSqrtMeanVar())\n",
    "]"
   ]
  },
  {
   "cell_type": "code",
   "execution_count": 28,
   "id": "9d9c253e",
   "metadata": {
    "execution": {
     "iopub.execute_input": "2021-04-29T11:46:14.753171Z",
     "iopub.status.busy": "2021-04-29T11:46:14.752697Z",
     "iopub.status.idle": "2021-04-29T11:46:24.057012Z",
     "shell.execute_reply": "2021-04-29T11:46:24.056573Z"
    }
   },
   "outputs": [
    {
     "name": "stdout",
     "output_type": "stream",
     "text": [
      "WARNING:tensorflow:Calling GradientTape.gradient on a persistent tape inside its context is significantly less efficient than calling it outside the context (it causes the gradient ops to be recorded on the tape, leading to increased CPU and memory usage). Only call GradientTape.gradient inside the context if you actually want to trace the gradient in order to compute higher order derivatives.\n"
     ]
    }
   ],
   "source": [
    "# Optimize vgp_bernoulli_natgrads_xi\n",
    "for _ in range(ci_niter(100)):\n",
    "    adam_opt.minimize(\n",
    "        vgp_bernoulli_natgrads_xi.training_loss,\n",
    "        var_list=vgp_bernoulli_natgrads_xi.trainable_variables,\n",
    "    )\n",
    "\n",
    "    natgrad_opt.minimize(vgp_bernoulli_natgrads_xi.training_loss, var_list=variational_params)"
   ]
  },
  {
   "cell_type": "markdown",
   "id": "18e1ceb2",
   "metadata": {},
   "source": [
    "VGP ELBO after `NaturalGradient` with `XiSqrtMeanVar` + `Adam` optimization:"
   ]
  },
  {
   "cell_type": "code",
   "execution_count": 29,
   "id": "71032fe6",
   "metadata": {
    "execution": {
     "iopub.execute_input": "2021-04-29T11:46:24.061141Z",
     "iopub.status.busy": "2021-04-29T11:46:24.060687Z",
     "iopub.status.idle": "2021-04-29T11:46:24.076402Z",
     "shell.execute_reply": "2021-04-29T11:46:24.076778Z"
    }
   },
   "outputs": [
    {
     "data": {
      "text/plain": [
       "-143.09890480316938"
      ]
     },
     "execution_count": 1,
     "metadata": {},
     "output_type": "execute_result"
    }
   ],
   "source": [
    "vgp_bernoulli_natgrads_xi.elbo().numpy()"
   ]
  },
  {
   "cell_type": "markdown",
   "id": "d0c1eeff",
   "metadata": {},
   "source": [
    "With sufficiently small steps, it shouldn't make a difference which transform is used, but for large\n",
    "steps this can make a difference in practice."
   ]
  }
 ],
 "metadata": {
  "jupytext": {
   "formats": "ipynb,.pct.py:percent"
  },
  "kernelspec": {
   "display_name": "Python 3",
   "language": "python",
   "name": "python3"
  },
  "language_info": {
   "codemirror_mode": {
    "name": "ipython",
    "version": 3
   },
   "file_extension": ".py",
   "mimetype": "text/x-python",
   "name": "python",
   "nbconvert_exporter": "python",
   "pygments_lexer": "ipython3",
   "version": "3.6.13"
  }
 },
 "nbformat": 4,
 "nbformat_minor": 5
}
