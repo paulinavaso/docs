{
 "cells": [
  {
   "cell_type": "markdown",
   "id": "18a82b5f",
   "metadata": {},
   "source": [
    "# Convolutional Gaussian Processes\n",
    "Mark van der Wilk (July 2019)\n",
    "\n",
    "Here we show a simple example of the rectangles experiment, where we compare a normal squared exponential GP, and a convolutional GP. This is similar to the experiment in [1].\n",
    "\n",
    "[1] Van der Wilk, Rasmussen, Hensman (2017). Convolutional Gaussian Processes. *Advances in Neural Information Processing Systems 30*."
   ]
  },
  {
   "cell_type": "markdown",
   "id": "3d68d3e7",
   "metadata": {},
   "source": [
    "## Generate dataset\n",
    "Generate a simple dataset of rectangles. We want to classify whether they are tall or wide. **NOTE:** Here we take care to make sure that the rectangles don't touch the edge, which is different to the original paper. We do this to avoid needing to use patch weights, which are needed to correctly account for edge effects."
   ]
  },
  {
   "cell_type": "code",
   "execution_count": 1,
   "id": "53ea5947",
   "metadata": {
    "execution": {
     "iopub.execute_input": "2021-04-08T13:00:51.245867Z",
     "iopub.status.busy": "2021-04-08T13:00:51.244422Z",
     "iopub.status.idle": "2021-04-08T13:00:55.369628Z",
     "shell.execute_reply": "2021-04-08T13:00:55.370287Z"
    }
   },
   "outputs": [],
   "source": [
    "import time\n",
    "import numpy as np\n",
    "import matplotlib.pyplot as plt\n",
    "\n",
    "import gpflow\n",
    "import tensorflow as tf\n",
    "import tensorflow_probability as tfp\n",
    "\n",
    "from gpflow import set_trainable\n",
    "from gpflow.ci_utils import is_continuous_integration\n",
    "\n",
    "gpflow.config.set_default_float(np.float64)\n",
    "gpflow.config.set_default_jitter(1e-4)\n",
    "gpflow.config.set_default_summary_fmt(\"notebook\")\n",
    "\n",
    "# for reproducibility of this notebook:\n",
    "np.random.seed(123)\n",
    "tf.random.set_seed(42)\n",
    "\n",
    "MAXITER = 2 if is_continuous_integration() else 100\n",
    "NUM_TRAIN_DATA = (\n",
    "    5 if is_continuous_integration() else 100\n",
    ")  # This is less than in the original rectangles dataset\n",
    "NUM_TEST_DATA = 7 if is_continuous_integration() else 300\n",
    "H = W = 14  # width and height. In the original paper this is 28\n",
    "IMAGE_SHAPE = [H, W]"
   ]
  },
  {
   "cell_type": "code",
   "execution_count": 2,
   "id": "94d5b419",
   "metadata": {
    "execution": {
     "iopub.execute_input": "2021-04-08T13:00:55.391363Z",
     "iopub.status.busy": "2021-04-08T13:00:55.389700Z",
     "iopub.status.idle": "2021-04-08T13:00:55.471160Z",
     "shell.execute_reply": "2021-04-08T13:00:55.472156Z"
    }
   },
   "outputs": [],
   "source": [
    "def make_rectangle(arr, x0, y0, x1, y1):\n",
    "    arr[y0:y1, x0] = 1\n",
    "    arr[y0:y1, x1] = 1\n",
    "    arr[y0, x0:x1] = 1\n",
    "    arr[y1, x0 : x1 + 1] = 1\n",
    "\n",
    "\n",
    "def make_random_rectangle(arr):\n",
    "    x0 = np.random.randint(1, arr.shape[1] - 3)\n",
    "    y0 = np.random.randint(1, arr.shape[0] - 3)\n",
    "    x1 = np.random.randint(x0 + 2, arr.shape[1] - 1)\n",
    "    y1 = np.random.randint(y0 + 2, arr.shape[0] - 1)\n",
    "    make_rectangle(arr, x0, y0, x1, y1)\n",
    "    return x0, y0, x1, y1\n",
    "\n",
    "\n",
    "def make_rectangles_dataset(num, w, h):\n",
    "    d, Y = np.zeros((num, h, w)), np.zeros((num, 1))\n",
    "    for i, img in enumerate(d):\n",
    "        for j in range(1000):  # Finite number of tries\n",
    "            x0, y0, x1, y1 = make_random_rectangle(img)\n",
    "            rw, rh = y1 - y0, x1 - x0\n",
    "            if rw == rh:\n",
    "                img[:, :] = 0\n",
    "                continue\n",
    "            Y[i, 0] = rw > rh\n",
    "            break\n",
    "    return (\n",
    "        d.reshape(num, w * h).astype(gpflow.config.default_float()),\n",
    "        Y.astype(gpflow.config.default_float()),\n",
    "    )"
   ]
  },
  {
   "cell_type": "code",
   "execution_count": 3,
   "id": "08bedf6c",
   "metadata": {
    "execution": {
     "iopub.execute_input": "2021-04-08T13:00:55.481253Z",
     "iopub.status.busy": "2021-04-08T13:00:55.475783Z",
     "iopub.status.idle": "2021-04-08T13:00:55.494534Z",
     "shell.execute_reply": "2021-04-08T13:00:55.494926Z"
    }
   },
   "outputs": [],
   "source": [
    "X, Y = data = make_rectangles_dataset(NUM_TRAIN_DATA, *IMAGE_SHAPE)\n",
    "Xt, Yt = test_data = make_rectangles_dataset(NUM_TEST_DATA, *IMAGE_SHAPE)"
   ]
  },
  {
   "cell_type": "code",
   "execution_count": 4,
   "id": "7f5e011d",
   "metadata": {
    "execution": {
     "iopub.execute_input": "2021-04-08T13:00:55.523652Z",
     "iopub.status.busy": "2021-04-08T13:00:55.511895Z",
     "iopub.status.idle": "2021-04-08T13:00:55.824276Z",
     "shell.execute_reply": "2021-04-08T13:00:55.824885Z"
    }
   },
   "outputs": [
    {
     "data": {
      "image/png": "[encoded data removed]",
      "text/plain": [
       "<Figure size 576x216 with 4 Axes>"
      ]
     },
     "metadata": {
      "needs_background": "light"
     },
     "output_type": "display_data"
    }
   ],
   "source": [
    "plt.figure(figsize=(8, 3))\n",
    "for i in range(4):\n",
    "    plt.subplot(1, 4, i + 1)\n",
    "    plt.imshow(X[i, :].reshape(*IMAGE_SHAPE))\n",
    "    plt.title(Y[i, 0])"
   ]
  },
  {
   "cell_type": "markdown",
   "id": "51c7213c",
   "metadata": {},
   "source": [
    "## Squared Exponential kernel"
   ]
  },
  {
   "cell_type": "code",
   "execution_count": 5,
   "id": "ca7deb43",
   "metadata": {
    "execution": {
     "iopub.execute_input": "2021-04-08T13:00:55.843902Z",
     "iopub.status.busy": "2021-04-08T13:00:55.843228Z",
     "iopub.status.idle": "2021-04-08T13:00:55.868363Z",
     "shell.execute_reply": "2021-04-08T13:00:55.868787Z"
    }
   },
   "outputs": [],
   "source": [
    "rbf_m = gpflow.models.SVGP(\n",
    "    gpflow.kernels.SquaredExponential(),\n",
    "    gpflow.likelihoods.Bernoulli(),\n",
    "    gpflow.inducing_variables.InducingPoints(X.copy()),\n",
    ")"
   ]
  },
  {
   "cell_type": "code",
   "execution_count": 6,
   "id": "a59cb8df",
   "metadata": {
    "execution": {
     "iopub.execute_input": "2021-04-08T13:00:55.880720Z",
     "iopub.status.busy": "2021-04-08T13:00:55.879847Z",
     "iopub.status.idle": "2021-04-08T13:01:05.692085Z",
     "shell.execute_reply": "2021-04-08T13:01:05.692855Z"
    }
   },
   "outputs": [
    {
     "name": "stdout",
     "output_type": "stream",
     "text": [
      "RBF elbo before training: -9.9408e+01\n"
     ]
    }
   ],
   "source": [
    "rbf_training_loss_closure = rbf_m.training_loss_closure(data, compile=True)\n",
    "rbf_elbo = lambda: -rbf_training_loss_closure().numpy()\n",
    "print(\"RBF elbo before training: %.4e\" % rbf_elbo())"
   ]
  },
  {
   "cell_type": "code",
   "execution_count": 7,
   "id": "093e2754",
   "metadata": {
    "execution": {
     "iopub.execute_input": "2021-04-08T13:01:05.697249Z",
     "iopub.status.busy": "2021-04-08T13:01:05.695848Z",
     "iopub.status.idle": "2021-04-08T13:01:11.372950Z",
     "shell.execute_reply": "2021-04-08T13:01:11.371560Z"
    }
   },
   "outputs": [
    {
     "name": "stdout",
     "output_type": "stream",
     "text": [
      "8.680 iter/s\n"
     ]
    }
   ],
   "source": [
    "set_trainable(rbf_m.inducing_variable, False)\n",
    "start_time = time.time()\n",
    "res = gpflow.optimizers.Scipy().minimize(\n",
    "    rbf_training_loss_closure,\n",
    "    variables=rbf_m.trainable_variables,\n",
    "    method=\"l-bfgs-b\",\n",
    "    options={\"disp\": True, \"maxiter\": MAXITER},\n",
    ")\n",
    "print(f\"{res.nfev / (time.time() - start_time):.3f} iter/s\")"
   ]
  },
  {
   "cell_type": "code",
   "execution_count": 8,
   "id": "c2c0afca",
   "metadata": {
    "execution": {
     "iopub.execute_input": "2021-04-08T13:01:11.385640Z",
     "iopub.status.busy": "2021-04-08T13:01:11.383910Z",
     "iopub.status.idle": "2021-04-08T13:01:11.593903Z",
     "shell.execute_reply": "2021-04-08T13:01:11.595081Z"
    }
   },
   "outputs": [
    {
     "name": "stdout",
     "output_type": "stream",
     "text": [
      "Train acc: 100.0%\n",
      "Test acc : 68.33333333333333%\n",
      "RBF elbo after training: -6.0371e+01\n"
     ]
    }
   ],
   "source": [
    "train_acc = np.mean((rbf_m.predict_y(X)[0] > 0.5).numpy().astype(\"float\") == Y)\n",
    "test_acc = np.mean((rbf_m.predict_y(Xt)[0] > 0.5).numpy().astype(\"float\") == Yt)\n",
    "print(f\"Train acc: {train_acc * 100}%\\nTest acc : {test_acc*100}%\")\n",
    "print(\"RBF elbo after training: %.4e\" % rbf_elbo())"
   ]
  },
  {
   "cell_type": "markdown",
   "id": "67bc18b6",
   "metadata": {},
   "source": [
    "## Convolutional kernel"
   ]
  },
  {
   "cell_type": "code",
   "execution_count": 9,
   "id": "117fd9e9",
   "metadata": {
    "execution": {
     "iopub.execute_input": "2021-04-08T13:01:11.599715Z",
     "iopub.status.busy": "2021-04-08T13:01:11.598752Z",
     "iopub.status.idle": "2021-04-08T13:01:12.188646Z",
     "shell.execute_reply": "2021-04-08T13:01:12.189692Z"
    }
   },
   "outputs": [
    {
     "name": "stdout",
     "output_type": "stream",
     "text": [
      "WARNING:tensorflow:From <ipython-input-1-9a710ec8bf7f>:2: AffineScalar.__init__ (from tensorflow_probability.python.bijectors.affine_scalar) is deprecated and will be removed after 2020-01-01.\n",
      "Instructions for updating:\n",
      "`AffineScalar` bijector is deprecated; please use `tfb.Shift(loc)(tfb.Scale(...))` instead.\n"
     ]
    }
   ],
   "source": [
    "f64 = lambda x: np.array(x, dtype=np.float64)\n",
    "positive_with_min = lambda: tfp.bijectors.AffineScalar(shift=f64(1e-4))(tfp.bijectors.Softplus())\n",
    "constrained = lambda: tfp.bijectors.AffineScalar(shift=f64(1e-4), scale=f64(100.0))(\n",
    "    tfp.bijectors.Sigmoid()\n",
    ")\n",
    "max_abs_1 = lambda: tfp.bijectors.AffineScalar(shift=f64(-2.0), scale=f64(4.0))(\n",
    "    tfp.bijectors.Sigmoid()\n",
    ")\n",
    "\n",
    "patch_shape = [3, 3]\n",
    "conv_k = gpflow.kernels.Convolutional(gpflow.kernels.SquaredExponential(), IMAGE_SHAPE, patch_shape)\n",
    "conv_k.base_kernel.lengthscales = gpflow.Parameter(1.0, transform=positive_with_min())\n",
    "# Weight scale and variance are non-identifiable. We also need to prevent variance from shooting off crazily.\n",
    "conv_k.base_kernel.variance = gpflow.Parameter(1.0, transform=constrained())\n",
    "conv_k.weights = gpflow.Parameter(conv_k.weights.numpy(), transform=max_abs_1())\n",
    "conv_f = gpflow.inducing_variables.InducingPatches(\n",
    "    np.unique(conv_k.get_patches(X).numpy().reshape(-1, 9), axis=0)\n",
    ")"
   ]
  },
  {
   "cell_type": "code",
   "execution_count": 10,
   "id": "af90929f",
   "metadata": {
    "execution": {
     "iopub.execute_input": "2021-04-08T13:01:12.198108Z",
     "iopub.status.busy": "2021-04-08T13:01:12.197435Z",
     "iopub.status.idle": "2021-04-08T13:01:12.301209Z",
     "shell.execute_reply": "2021-04-08T13:01:12.301929Z"
    }
   },
   "outputs": [],
   "source": [
    "conv_m = gpflow.models.SVGP(conv_k, gpflow.likelihoods.Bernoulli(), conv_f)"
   ]
  },
  {
   "cell_type": "code",
   "execution_count": 11,
   "id": "b0a8432e",
   "metadata": {
    "execution": {
     "iopub.execute_input": "2021-04-08T13:01:12.366065Z",
     "iopub.status.busy": "2021-04-08T13:01:12.304747Z",
     "iopub.status.idle": "2021-04-08T13:01:12.381531Z",
     "shell.execute_reply": "2021-04-08T13:01:12.382355Z"
    }
   },
   "outputs": [],
   "source": [
    "set_trainable(conv_m.inducing_variable, False)\n",
    "set_trainable(conv_m.kernel.base_kernel.variance, False)\n",
    "set_trainable(conv_m.kernel.weights, False)"
   ]
  },
  {
   "cell_type": "code",
   "execution_count": 12,
   "id": "4caae7ad",
   "metadata": {
    "execution": {
     "iopub.execute_input": "2021-04-08T13:01:12.386958Z",
     "iopub.status.busy": "2021-04-08T13:01:12.385878Z",
     "iopub.status.idle": "2021-04-08T13:01:16.469197Z",
     "shell.execute_reply": "2021-04-08T13:01:16.469918Z"
    }
   },
   "outputs": [
    {
     "name": "stdout",
     "output_type": "stream",
     "text": [
      "conv elbo before training: -8.7271e+01\n"
     ]
    }
   ],
   "source": [
    "conv_training_loss_closure = conv_m.training_loss_closure(data, compile=True)\n",
    "conv_elbo = lambda: -conv_training_loss_closure().numpy()\n",
    "print(\"conv elbo before training: %.4e\" % conv_elbo())"
   ]
  },
  {
   "cell_type": "code",
   "execution_count": 13,
   "id": "f1268ecb",
   "metadata": {
    "execution": {
     "iopub.execute_input": "2021-04-08T13:01:16.474246Z",
     "iopub.status.busy": "2021-04-08T13:01:16.473534Z",
     "iopub.status.idle": "2021-04-08T13:01:23.397111Z",
     "shell.execute_reply": "2021-04-08T13:01:23.396100Z"
    }
   },
   "outputs": [
    {
     "name": "stdout",
     "output_type": "stream",
     "text": [
      "1.592 iter/s\n"
     ]
    }
   ],
   "source": [
    "start_time = time.time()\n",
    "res = gpflow.optimizers.Scipy().minimize(\n",
    "    conv_training_loss_closure,\n",
    "    variables=conv_m.trainable_variables,\n",
    "    method=\"l-bfgs-b\",\n",
    "    options={\"disp\": True, \"maxiter\": MAXITER / 10},\n",
    ")\n",
    "print(f\"{res.nfev / (time.time() - start_time):.3f} iter/s\")"
   ]
  },
  {
   "cell_type": "code",
   "execution_count": 14,
   "id": "ade715c9",
   "metadata": {
    "execution": {
     "iopub.execute_input": "2021-04-08T13:01:23.468035Z",
     "iopub.status.busy": "2021-04-08T13:01:23.466523Z",
     "iopub.status.idle": "2021-04-08T13:01:43.199303Z",
     "shell.execute_reply": "2021-04-08T13:01:43.200022Z"
    }
   },
   "outputs": [
    {
     "name": "stdout",
     "output_type": "stream",
     "text": [
      "Train acc: 100.0%\n",
      "Test acc : 99.0%\n",
      "conv elbo after training: -2.6751e+01\n"
     ]
    }
   ],
   "source": [
    "set_trainable(conv_m.kernel.base_kernel.variance, True)\n",
    "res = gpflow.optimizers.Scipy().minimize(\n",
    "    conv_training_loss_closure,\n",
    "    variables=conv_m.trainable_variables,\n",
    "    method=\"l-bfgs-b\",\n",
    "    options={\"disp\": True, \"maxiter\": MAXITER},\n",
    ")\n",
    "train_acc = np.mean((conv_m.predict_y(X)[0] > 0.5).numpy().astype(\"float\") == Y)\n",
    "test_acc = np.mean((conv_m.predict_y(Xt)[0] > 0.5).numpy().astype(\"float\") == Yt)\n",
    "print(f\"Train acc: {train_acc * 100}%\\nTest acc : {test_acc*100}%\")\n",
    "print(\"conv elbo after training: %.4e\" % conv_elbo())"
   ]
  },
  {
   "cell_type": "code",
   "execution_count": 15,
   "id": "cf6de38b",
   "metadata": {
    "execution": {
     "iopub.execute_input": "2021-04-08T13:01:43.203613Z",
     "iopub.status.busy": "2021-04-08T13:01:43.202887Z",
     "iopub.status.idle": "2021-04-08T13:02:18.582817Z",
     "shell.execute_reply": "2021-04-08T13:02:18.583399Z"
    }
   },
   "outputs": [
    {
     "name": "stdout",
     "output_type": "stream",
     "text": [
      "Train acc: 100.0%\n",
      "Test acc : 99.0%\n",
      "conv elbo after training: -2.6735e+01\n"
     ]
    }
   ],
   "source": [
    "res = gpflow.optimizers.Scipy().minimize(\n",
    "    conv_training_loss_closure,\n",
    "    variables=conv_m.trainable_variables,\n",
    "    method=\"l-bfgs-b\",\n",
    "    options={\"disp\": True, \"maxiter\": MAXITER},\n",
    ")\n",
    "train_acc = np.mean((conv_m.predict_y(X)[0] > 0.5).numpy().astype(\"float\") == Y)\n",
    "test_acc = np.mean((conv_m.predict_y(Xt)[0] > 0.5).numpy().astype(\"float\") == Yt)\n",
    "print(f\"Train acc: {train_acc * 100}%\\nTest acc : {test_acc*100}%\")\n",
    "print(\"conv elbo after training: %.4e\" % conv_elbo())"
   ]
  },
  {
   "cell_type": "code",
   "execution_count": 16,
   "id": "e3702a80",
   "metadata": {
    "execution": {
     "iopub.execute_input": "2021-04-08T13:02:18.675790Z",
     "iopub.status.busy": "2021-04-08T13:02:18.596325Z",
     "iopub.status.idle": "2021-04-08T13:02:43.278004Z",
     "shell.execute_reply": "2021-04-08T13:02:43.278799Z"
    }
   },
   "outputs": [
    {
     "name": "stdout",
     "output_type": "stream",
     "text": [
      "Train acc: 100.0%\n",
      "Test acc : 95.33333333333334%\n",
      "conv elbo after training: -1.7168e+01\n"
     ]
    }
   ],
   "source": [
    "set_trainable(conv_m.kernel.weights, True)\n",
    "res = gpflow.optimizers.Scipy().minimize(\n",
    "    conv_training_loss_closure,\n",
    "    variables=conv_m.trainable_variables,\n",
    "    method=\"l-bfgs-b\",\n",
    "    options={\"disp\": True, \"maxiter\": MAXITER},\n",
    ")\n",
    "train_acc = np.mean((conv_m.predict_y(X)[0] > 0.5).numpy().astype(\"float\") == Y)\n",
    "test_acc = np.mean((conv_m.predict_y(Xt)[0] > 0.5).numpy().astype(\"float\") == Yt)\n",
    "print(f\"Train acc: {train_acc * 100}%\\nTest acc : {test_acc*100}%\")\n",
    "print(\"conv elbo after training: %.4e\" % conv_elbo())"
   ]
  },
  {
   "cell_type": "code",
   "execution_count": 17,
   "id": "47a485bd",
   "metadata": {
    "execution": {
     "iopub.execute_input": "2021-04-08T13:02:43.288580Z",
     "iopub.status.busy": "2021-04-08T13:02:43.287508Z",
     "iopub.status.idle": "2021-04-08T13:02:43.372531Z",
     "shell.execute_reply": "2021-04-08T13:02:43.373341Z"
    }
   },
   "outputs": [
    {
     "data": {
      "text/html": [
       "<table>\n",
       "<thead>\n",
       "<tr><th>name                    </th><th>class    </th><th>transform     </th><th>prior  </th><th>trainable  </th><th>shape        </th><th>dtype  </th><th>value                                               </th></tr>\n",
       "</thead>\n",
       "<tbody>\n",
       "<tr><td>SVGP.kernel.variance    </td><td>Parameter</td><td>Softplus      </td><td>       </td><td>True       </td><td>()           </td><td>float64</td><td>3.566551769294793                                   </td></tr>\n",
       "<tr><td>SVGP.kernel.lengthscales</td><td>Parameter</td><td>Softplus      </td><td>       </td><td>True       </td><td>()           </td><td>float64</td><td>2.7512917930365193                                  </td></tr>\n",
       "<tr><td>SVGP.inducing_variable.Z</td><td>Parameter</td><td>Identity      </td><td>       </td><td>False      </td><td>(100, 196)   </td><td>float64</td><td>[[0., 0., 0....                                     </td></tr>\n",
       "<tr><td>SVGP.q_mu               </td><td>Parameter</td><td>Identity      </td><td>       </td><td>True       </td><td>(100, 1)     </td><td>float64</td><td>[[-5.78241751e-01...                                </td></tr>\n",
       "<tr><td>SVGP.q_sqrt             </td><td>Parameter</td><td>FillTriangular</td><td>       </td><td>True       </td><td>(1, 100, 100)</td><td>float64</td><td>[[[6.44747990e-01, 0.00000000e+00, 0.00000000e+00...</td></tr>\n",
       "</tbody>\n",
       "</table>"
      ],
      "text/plain": [
       "<IPython.core.display.HTML object>"
      ]
     },
     "metadata": {},
     "output_type": "display_data"
    }
   ],
   "source": [
    "gpflow.utilities.print_summary(rbf_m)"
   ]
  },
  {
   "cell_type": "code",
   "execution_count": 18,
   "id": "45c03ed8",
   "metadata": {
    "execution": {
     "iopub.execute_input": "2021-04-08T13:02:43.380695Z",
     "iopub.status.busy": "2021-04-08T13:02:43.378905Z",
     "iopub.status.idle": "2021-04-08T13:02:43.600011Z",
     "shell.execute_reply": "2021-04-08T13:02:43.665824Z"
    }
   },
   "outputs": [
    {
     "data": {
      "text/html": [
       "<table>\n",
       "<thead>\n",
       "<tr><th>name                                </th><th>class    </th><th>transform              </th><th>prior  </th><th>trainable  </th><th>shape      </th><th>dtype  </th><th>value                                 </th></tr>\n",
       "</thead>\n",
       "<tbody>\n",
       "<tr><td>SVGP.kernel.base_kernel.variance    </td><td>Parameter</td><td>Sigmoid + AffineScalar </td><td>       </td><td>True       </td><td>()         </td><td>float64</td><td>99.99288473279616                     </td></tr>\n",
       "<tr><td>SVGP.kernel.base_kernel.lengthscales</td><td>Parameter</td><td>Softplus + AffineScalar</td><td>       </td><td>True       </td><td>()         </td><td>float64</td><td>0.6413234893383103                    </td></tr>\n",
       "<tr><td>SVGP.kernel.weights                 </td><td>Parameter</td><td>Sigmoid + AffineScalar </td><td>       </td><td>True       </td><td>(144,)     </td><td>float64</td><td>[0.32657753, 0.41190267, 0.45711445...</td></tr>\n",
       "<tr><td>SVGP.inducing_variable.Z            </td><td>Parameter</td><td>Identity               </td><td>       </td><td>False      </td><td>(45, 9)    </td><td>float64</td><td>[[0., 0., 0....                       </td></tr>\n",
       "<tr><td>SVGP.q_mu                           </td><td>Parameter</td><td>Identity               </td><td>       </td><td>True       </td><td>(45, 1)    </td><td>float64</td><td>[[0.00962356...                       </td></tr>\n",
       "<tr><td>SVGP.q_sqrt                         </td><td>Parameter</td><td>FillTriangular         </td><td>       </td><td>True       </td><td>(1, 45, 45)</td><td>float64</td><td>[[[0.07029027, 0., 0....              </td></tr>\n",
       "</tbody>\n",
       "</table>"
      ],
      "text/plain": [
       "<IPython.core.display.HTML object>"
      ]
     },
     "metadata": {},
     "output_type": "display_data"
    }
   ],
   "source": [
    "gpflow.utilities.print_summary(conv_m)"
   ]
  },
  {
   "cell_type": "markdown",
   "id": "1e88ff04",
   "metadata": {},
   "source": [
    "## Conclusion\n",
    "The convolutional kernel performs much better in this simple task. It demonstrates non-local generalization of the strong assumptions in the kernel."
   ]
  }
 ],
 "metadata": {
  "jupytext": {
   "formats": "ipynb,.pct.py:percent"
  },
  "kernelspec": {
   "display_name": "Python 3",
   "language": "python",
   "name": "python3"
  },
  "language_info": {
   "codemirror_mode": {
    "name": "ipython",
    "version": 3
   },
   "file_extension": ".py",
   "mimetype": "text/x-python",
   "name": "python",
   "nbconvert_exporter": "python",
   "pygments_lexer": "ipython3",
   "version": "3.6.13"
  }
 },
 "nbformat": 4,
 "nbformat_minor": 5
}
